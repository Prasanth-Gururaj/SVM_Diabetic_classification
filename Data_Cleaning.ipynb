{
 "cells": [
  {
   "cell_type": "code",
   "execution_count": 1,
   "id": "dcb34b5c-c303-49c4-9ab7-816752523c59",
   "metadata": {},
   "outputs": [
    {
     "name": "stdout",
     "output_type": "stream",
     "text": [
      "\n",
      "DIABETICEV Distribution for Age > 50:\n",
      "No Diabetes (1): 8066\n",
      "Yes Diabetes (2): 1176\n",
      "Borderline (3): 0\n",
      "\n",
      "Percentage Distribution:\n",
      "No Diabetes: 87.28%\n",
      "Yes Diabetes: 12.72%\n",
      "Borderline: 0.00%\n",
      "\n",
      "Total number of people over 50: 9242\n"
     ]
    }
   ],
   "source": [
    "# This code loads NHIS 2022 data, filters adult records, cleans specific predictor columns, \n",
    "# isolates individuals aged 50 and older, examines diabetes status distribution among them, \n",
    "# and saves the cleaned dataset for further analysis.\n",
    "\n",
    "import pandas as pd\n",
    "\n",
    "df = pd.read_csv(\"nhis_2022.csv\")\n",
    "\n",
    "adult_dataset = df[df['ASTATFLG'].isin([1, 6])].copy()\n",
    "\n",
    "predictors = ['BMICALC', 'FRUTNO', 'SALADSNO', 'MOD10DMIN', 'HRSLEEP', 'PIZZANO', 'FRIESPNO', 'AGE']\n",
    "\n",
    "adult_dataset = adult_dataset[~adult_dataset['BMICALC'].isin([0.0, 996.0])]\n",
    "\n",
    "adult_dataset = adult_dataset[~adult_dataset['FRUTNO'].isin(range(996, 1000))]\n",
    "adult_dataset['FRUTNO'] = adult_dataset['FRUTNO'].clip(upper=995)\n",
    "\n",
    "adult_dataset = adult_dataset[~adult_dataset['SALADSNO'].isin(range(996, 1000))]\n",
    "adult_dataset['SALADSNO'] = adult_dataset['SALADSNO'].clip(upper=95)\n",
    "\n",
    "adult_dataset = adult_dataset[~adult_dataset['MOD10DMIN'].isin([0, 996, 997, 998, 999])]\n",
    "\n",
    "adult_dataset = adult_dataset[~adult_dataset['HRSLEEP'].isin([0, 97])]\n",
    "\n",
    "adult_dataset = adult_dataset[~adult_dataset['PIZZANO'].isin([996, 997, 998, 999])]\n",
    "\n",
    "adult_dataset = adult_dataset[~adult_dataset['FRIESPNO'].isin([996, 997, 998, 999])]\n",
    "\n",
    "adult_dataset = adult_dataset[~adult_dataset['AGE'].isin([997, 998, 999])]\n",
    "\n",
    "adult_dataset = adult_dataset[adult_dataset['DIABETICEV'].isin([1, 2, 3])]\n",
    "\n",
    "adult_dataset = adult_dataset.dropna(subset=['DIABETICEV'])\n",
    "\n",
    "over_50_dataset = adult_dataset[adult_dataset['AGE'] >= 50].copy()\n",
    "\n",
    "diabetic_counts = over_50_dataset['DIABETICEV'].value_counts().sort_index()\n",
    "print(\"\\nDIABETICEV Distribution for Age > 50:\")\n",
    "print(f\"No Diabetes (1): {diabetic_counts.get(1, 0)}\")\n",
    "print(f\"Yes Diabetes (2): {diabetic_counts.get(2, 0)}\")\n",
    "print(f\"Borderline (3): {diabetic_counts.get(3, 0)}\")\n",
    "\n",
    "total = diabetic_counts.sum()\n",
    "print(f\"\\nPercentage Distribution:\")\n",
    "print(f\"No Diabetes: {(diabetic_counts.get(1, 0)/total*100):.2f}%\")\n",
    "print(f\"Yes Diabetes: {(diabetic_counts.get(2, 0)/total*100):.2f}%\")\n",
    "print(f\"Borderline: {(diabetic_counts.get(3, 0)/total*100):.2f}%\")\n",
    "\n",
    "print(f\"\\nTotal number of people over 50: {len(over_50_dataset)}\")\n",
    "\n",
    "over_50_dataset.to_csv('cleaned_data_set_for_svm.csv', index=False)\n"
   ]
  },
  {
   "cell_type": "code",
   "execution_count": null,
   "id": "13084cff-920f-4962-8dea-4857b76e99b8",
   "metadata": {},
   "outputs": [],
   "source": []
  }
 ],
 "metadata": {
  "kernelspec": {
   "display_name": "Python 3 (ipykernel)",
   "language": "python",
   "name": "python3"
  },
  "language_info": {
   "codemirror_mode": {
    "name": "ipython",
    "version": 3
   },
   "file_extension": ".py",
   "mimetype": "text/x-python",
   "name": "python",
   "nbconvert_exporter": "python",
   "pygments_lexer": "ipython3",
   "version": "3.12.3"
  }
 },
 "nbformat": 4,
 "nbformat_minor": 5
}
